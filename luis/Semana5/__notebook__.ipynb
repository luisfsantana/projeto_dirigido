{
 "cells": [
  {
   "cell_type": "markdown",
   "metadata": {
    "_cell_guid": "08cd24eb-3d1d-1aa1-0b60-1ad534749f41"
   },
   "source": [
    "A gaussian process model is a powerful and flexible regression (and classification) model. \n",
    "We use a Gaussian Process with matern kernel to model the house prices. "
   ]
  },
  {
   "cell_type": "code",
   "execution_count": 6,
   "metadata": {
    "_cell_guid": "080f8f6e-7fc4-10ca-f353-1b6a7744f823"
   },
   "outputs": [],
   "source": [
    "import warnings\n",
    "warnings.filterwarnings('ignore')\n",
    "import numpy as np \n",
    "import pandas as pd \n",
    "import math\n",
    "from sklearn.cross_validation import cross_val_score, cross_val_predict\n",
    "from sklearn.metrics import make_scorer\n",
    "from sklearn.pipeline import Pipeline\n",
    "from sklearn.preprocessing import StandardScaler, RobustScaler\n",
    "from sklearn.kernel_ridge import KernelRidge\n",
    "from sklearn.model_selection import GridSearchCV\n",
    "from sklearn.gaussian_process import GaussianProcessRegressor\n",
    "from sklearn.gaussian_process.kernels import WhiteKernel, Matern, RBF, DotProduct, RationalQuadratic\n",
    "\n",
    "\n",
    "def rmsle(y, y_pred):\n",
    "    assert len(y) == len(y_pred)\n",
    "    terms_to_sum = [(math.log(y_pred[i] + 1) - math.log(y[i] + 1)) ** 2.0 for i,pred in enumerate(y_pred)]\n",
    "    return (sum(terms_to_sum) * (1.0/len(y))) ** 0.5\n",
    "\n",
    "rmsle_scorer = make_scorer(rmsle, greater_is_better=False)\n",
    "\n",
    "def catcheck(df):\n",
    "    iscat = np.zeros(df.shape[1])\n",
    "    for c in range(df.shape[1]):\n",
    "        if df.dtypes[c] == 'object':\n",
    "            iscat[c] = 1\n",
    "        else:\n",
    "            iscat[c] = 0\n",
    "    catdf = pd.DataFrame({'variable': df.columns, 'iscat': iscat})\n",
    "    havecat = catdf[catdf.iscat == 1]\n",
    "    catcolumn = havecat.variable.tolist()\n",
    "    return catcolumn  \n",
    "\n",
    "def NAcheck(df):\n",
    "    isna = np.zeros(df.shape[1])\n",
    "    for c in range(df.shape[1]):\n",
    "        isna[c] = df.iloc[:, c].isnull().values.any()\n",
    "            # For each columns, it return \"True\" if they have NaN.\n",
    "    nandf = pd.DataFrame({'variable': df.columns, 'isna': isna})\n",
    "    havenan = nandf[nandf.isna == 1]\n",
    "    NAcolumn = havenan.variable.tolist()\n",
    "    return NAcolumn"
   ]
  },
  {
   "cell_type": "code",
   "execution_count": 7,
   "metadata": {
    "_cell_guid": "73f76ba4-16ca-fc75-9981-8611dfb1acfc"
   },
   "outputs": [
    {
     "name": "stdout",
     "output_type": "stream",
     "text": [
      "Index(['MSSubClass', 'LotArea', 'OverallQual', 'OverallCond', 'YearBuilt',\n",
      "       'YearRemodAdd', '1stFlrSF', '2ndFlrSF', 'LowQualFinSF', 'GrLivArea',\n",
      "       'FullBath', 'HalfBath', 'BedroomAbvGr', 'KitchenAbvGr', 'TotRmsAbvGrd',\n",
      "       'Fireplaces', 'WoodDeckSF', 'OpenPorchSF', 'EnclosedPorch', '3SsnPorch',\n",
      "       'ScreenPorch', 'PoolArea', 'MiscVal', 'MoSold', 'YrSold'],\n",
      "      dtype='object')\n"
     ]
    }
   ],
   "source": [
    "train = pd.read_csv(\"train.csv\")\n",
    "test = pd.read_csv(\"test.csv\")\n",
    "y_log = np.log1p(train[\"SalePrice\"].values)\n",
    "train1 = train.drop([\"Id\",\"SalePrice\"], axis=1)\n",
    "test1 = test.drop(\"Id\", axis=1)\n",
    "\n",
    "collist = set(NAcheck(train1) + NAcheck(test1))\n",
    "train1 = train1.drop(collist, axis = 1)\n",
    "test1 = test1.drop(collist, axis = 1)\n",
    "\n",
    "train1 = train1.drop(catcheck(train1), axis = 1)\n",
    "test1 = test1.drop(catcheck(test1), axis = 1)\n",
    "\n",
    "print(train1.columns)\n",
    "\n",
    "X = train1.values\n",
    "X_test = test1.values"
   ]
  },
  {
   "cell_type": "code",
   "execution_count": 8,
   "metadata": {
    "_cell_guid": "0fec7161-8af4-ef83-36d7-2bcea71e95eb"
   },
   "outputs": [
    {
     "name": "stdout",
     "output_type": "stream",
     "text": [
      "0.1459496865771487\n"
     ]
    }
   ],
   "source": [
    "kernel = 1.0**2 * Matern(length_scale=1.0, length_scale_bounds=(1e-05, 100000.0), nu=0.5)\n",
    "gp = GaussianProcessRegressor(kernel=kernel, alpha=5e-9, optimizer='fmin_l_bfgs_b', \n",
    "                                n_restarts_optimizer=0, normalize_y=False, copy_X_train=True,\n",
    "                                random_state=2016)\n",
    "\n",
    "clf = Pipeline([('scaler', StandardScaler()), ('gp', gp)])     \n",
    "\n",
    "y_log_centered = y_log - y_log.mean()\n",
    "y_pred = cross_val_predict(clf, X, y_log_centered, cv=5, n_jobs=-1)\n",
    "y = np.expm1(y_log)\n",
    "y_pred = np.expm1(y_pred + y_log.mean())\n",
    "score = rmsle(y,y_pred)\n",
    "print(score) "
   ]
  },
  {
   "cell_type": "code",
   "execution_count": 9,
   "metadata": {
    "_cell_guid": "f1d70b81-0313-5b86-abc6-bdb5816696bc"
   },
   "outputs": [],
   "source": [
    "import matplotlib as mpl\n",
    "import matplotlib.pyplot as plt\n",
    "import seaborn as sns\n",
    "sns.set(style=\"whitegrid\", color_codes=True)"
   ]
  },
  {
   "cell_type": "code",
   "execution_count": 10,
   "metadata": {
    "_cell_guid": "ea6ad09c-3780-1020-9361-821f35361bd2"
   },
   "outputs": [
    {
     "data": {
      "image/png": "[encoded data removed]",
      "text/plain": [
       "<matplotlib.figure.Figure at 0x1152109b0>"
      ]
     },
     "metadata": {},
     "output_type": "display_data"
    }
   ],
   "source": [
    "plt.scatter(y_pred, y)\n",
    "plt.plot([min(y_pred),max(y_pred)], [min(y_pred),max(y_pred)], ls=\"--\", c=\".3\")\n",
    "plt.xlim([0,800000])\n",
    "plt.ylim([0,800000])\n",
    "plt.xlabel(\"Prediction\")\n",
    "plt.ylabel(\"Ground Truth\")\n",
    "plt.show()"
   ]
  },
  {
   "cell_type": "markdown",
   "metadata": {
    "_cell_guid": "cf61e3ef-4c9c-8796-76b3-4f589c042954"
   },
   "source": [
    "Now predict"
   ]
  },
  {
   "cell_type": "code",
   "execution_count": 11,
   "metadata": {
    "_cell_guid": "1c4377db-33de-95ff-2de2-d48a25a62dcb"
   },
   "outputs": [],
   "source": [
    "clf.fit(X,y_log_centered)\n",
    "prediction = clf.predict(X_test)"
   ]
  },
  {
   "cell_type": "code",
   "execution_count": 12,
   "metadata": {
    "_cell_guid": "ec09bc58-ecc1-3937-fc18-bf5a226451ff"
   },
   "outputs": [
    {
     "name": "stdout",
     "output_type": "stream",
     "text": [
      "1.38**2 * Matern(length_scale=198, nu=0.5)\n"
     ]
    }
   ],
   "source": [
    "print(clf.steps[1][1].kernel_)"
   ]
  },
  {
   "cell_type": "code",
   "execution_count": 13,
   "metadata": {
    "_cell_guid": "fd5f8141-eb0a-1c54-31f1-fedf41d712e2"
   },
   "outputs": [],
   "source": [
    "prediction = np.expm1(prediction + y_log.mean())"
   ]
  },
  {
   "cell_type": "code",
   "execution_count": 16,
   "metadata": {},
   "outputs": [
    {
     "name": "stdout",
     "output_type": "stream",
     "text": [
      "[ 126915.93124026  149372.53746807  183210.66293316 ...,  160993.95731223\n",
      "  127673.62508873  229966.30103025]\n",
      "0.1459496865771487\n"
     ]
    }
   ],
   "source": [
    "print(prediction)\n",
    "print(score)"
   ]
  }
 ],
 "metadata": {
  "_change_revision": 101,
  "_is_fork": false,
  "kernelspec": {
   "display_name": "Python 3",
   "language": "python",
   "name": "python3"
  },
  "language_info": {
   "codemirror_mode": {
    "name": "ipython",
    "version": 3
   },
   "file_extension": ".py",
   "mimetype": "text/x-python",
   "name": "python",
   "nbconvert_exporter": "python",
   "pygments_lexer": "ipython3",
   "version": "3.6.3"
  }
 },
 "nbformat": 4,
 "nbformat_minor": 1
}
